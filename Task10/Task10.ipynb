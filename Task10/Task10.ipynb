{
  "nbformat": 4,
  "nbformat_minor": 0,
  "metadata": {
    "colab": {
      "provenance": []
    },
    "kernelspec": {
      "name": "python3",
      "display_name": "Python 3"
    },
    "language_info": {
      "name": "python"
    }
  },
  "cells": [
    {
      "cell_type": "code",
      "execution_count": 1,
      "metadata": {
        "colab": {
          "base_uri": "https://localhost:8080/"
        },
        "id": "7nowTUvkgi5E",
        "outputId": "e50b578c-bc69-486f-df14-1b0a24e5d8f7"
      },
      "outputs": [
        {
          "output_type": "stream",
          "name": "stdout",
          "text": [
            "Missing values:\n",
            " id            0\n",
            "name          0\n",
            "age           6\n",
            "salary        6\n",
            "department    0\n",
            "dtype: int64\n",
            "Filtered DataFrame:\n",
            "    id    name       age    salary department seniority_level  annual_bonus\n",
            "0   1  Name_1  56.00000   97563.0         IT          Senior        9756.3\n",
            "2   3  Name_3  32.00000   78190.0  Marketing       Mid-level        7819.0\n",
            "4   5  Name_5  25.00000  117538.0      Sales          Junior       11753.8\n",
            "5   6  Name_6  41.12766   69504.0         HR       Mid-level        6950.4\n",
            "6   7  Name_7  41.12766   63159.0  Marketing       Mid-level        6315.9\n",
            "Grouped DataFrame:\n",
            " department\n",
            "HR           73883.681358\n",
            "IT           64859.200000\n",
            "Marketing    73038.384641\n",
            "Sales        84587.453113\n",
            "Name: salary, dtype: float64\n",
            "Merged DataFrame:\n",
            "    id     name       age   salary department seniority_level  annual_bonus  \\\n",
            "0   1   Name_1  56.00000  97563.0         IT          Senior        9756.3   \n",
            "1   2   Name_2  46.00000  32695.0         IT          Senior        3269.5   \n",
            "2   4   Name_4  60.00000  35258.0         IT          Senior        3525.8   \n",
            "3  11  Name_11  41.12766  68660.0         IT       Mid-level        6866.0   \n",
            "4  12  Name_12  41.00000  33561.0         IT       Mid-level        3356.1   \n",
            "\n",
            "   head_count  \n",
            "0          30  \n",
            "1          30  \n",
            "2          30  \n",
            "3          30  \n",
            "4          30  \n"
          ]
        }
      ],
      "source": [
        "import pandas as pd\n",
        "import numpy as np\n",
        "import random\n",
        "\n",
        "# Set the random seed for reproducibility\n",
        "np.random.seed(42)\n",
        "random.seed(42)\n",
        "\n",
        "# Generate the dataset\n",
        "data = {\n",
        "    'id': np.arange(1, 101),\n",
        "    'name': [f'Name_{i}' for i in range(1, 101)],\n",
        "    'age': np.random.randint(18, 66, size=100),\n",
        "    'salary': np.random.randint(30000, 120001, size=100),\n",
        "    'department': np.random.choice(['HR', 'IT', 'Sales', 'Marketing'], size=100)\n",
        "}\n",
        "\n",
        "df = pd.DataFrame(data)\n",
        "\n",
        "# Introduce missing values in 'age' and 'salary' columns\n",
        "df.loc[5:10, 'age'] = np.nan\n",
        "df.loc[20:25, 'salary'] = np.nan\n",
        "\n",
        "# Check for missing values\n",
        "print(\"Missing values:\\n\", df.isnull().sum())\n",
        "\n",
        "# Fill missing values with the mean of the column\n",
        "df['age'].fillna(df['age'].mean(), inplace=True)\n",
        "df['salary'].fillna(df['salary'].mean(), inplace=True)\n",
        "\n",
        "# Create a new column 'seniority_level' based on 'age'\n",
        "df['seniority_level'] = pd.cut(df['age'], bins=[17, 30, 45, 65], labels=['Junior', 'Mid-level', 'Senior'])\n",
        "\n",
        "# Create a new column 'annual_bonus' as 10% of 'salary'\n",
        "df['annual_bonus'] = df['salary'] * 0.10\n",
        "\n",
        "# Filter data to include only employees with a salary greater than $50,000\n",
        "high_salary_df = df[df['salary'] > 50000]\n",
        "print(\"Filtered DataFrame:\\n\", high_salary_df.head())\n",
        "\n",
        "# Group data by department and calculate the average salary\n",
        "grouped_df = df.groupby('department')['salary'].mean()\n",
        "print(\"Grouped DataFrame:\\n\", grouped_df)\n",
        "\n",
        "# Create a small DataFrame with department and head count\n",
        "extra_data = pd.DataFrame({\n",
        "    'department': ['HR', 'IT', 'Sales', 'Marketing'],\n",
        "    'head_count': [25, 30, 20, 25]\n",
        "})\n",
        "\n",
        "# Merge the DataFrames on the 'department' column\n",
        "merged_df = pd.merge(df, extra_data, on='department')\n",
        "print(\"Merged DataFrame:\\n\", merged_df.head())\n"
      ]
    }
  ]
}