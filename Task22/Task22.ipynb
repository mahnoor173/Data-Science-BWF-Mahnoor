{
  "nbformat": 4,
  "nbformat_minor": 0,
  "metadata": {
    "colab": {
      "provenance": [],
      "authorship_tag": "ABX9TyMyMRohnaurDMEMD8NjwNBZ",
      "include_colab_link": true
    },
    "kernelspec": {
      "name": "python3",
      "display_name": "Python 3"
    },
    "language_info": {
      "name": "python"
    }
  },
  "cells": [
    {
      "cell_type": "markdown",
      "metadata": {
        "id": "view-in-github",
        "colab_type": "text"
      },
      "source": [
        "<a href=\"https://colab.research.google.com/github/mahnoor173/Data-Science-BWF-Mahnoor/blob/main/Task22/Task22.ipynb\" target=\"_parent\"><img src=\"https://colab.research.google.com/assets/colab-badge.svg\" alt=\"Open In Colab\"/></a>"
      ]
    },
    {
      "cell_type": "markdown",
      "source": [
        "**solve the XOR problem using an artificial neural network with Keras***"
      ],
      "metadata": {
        "id": "Gu56p-dRjtBb"
      }
    },
    {
      "cell_type": "code",
      "source": [
        "import numpy as np\n",
        "from keras.models import Sequential\n",
        "from keras.layers import Dense\n",
        "from keras.optimizers import SGD\n",
        "\n",
        "# XOR dataset\n",
        "X = np.array([[0, 0],\n",
        "              [0, 1],\n",
        "              [1, 0],\n",
        "              [1, 1]])\n",
        "\n",
        "y = np.array([[0],\n",
        "              [1],\n",
        "              [1],\n",
        "              [0]])\n",
        "\n",
        "# Build the neural network model\n",
        "model = Sequential()\n",
        "\n",
        "# Input layer with 2 inputs, hidden layer with 2 neurons\n",
        "model.add(Dense(2, input_dim=2, activation='sigmoid'))\n",
        "\n",
        "# Output layer with 1 neuron\n",
        "model.add(Dense(1, activation='sigmoid'))\n",
        "\n",
        "# Compile the model\n",
        "model.compile(loss='mean_squared_error', optimizer=SGD(learning_rate=0.1))\n",
        "\n",
        "# Train the model\n",
        "model.fit(X, y, epochs=10000, verbose=0)\n",
        "\n",
        "# Evaluate the model\n",
        "predictions = model.predict(X)\n",
        "print(\"Predicted Output:\\n\", predictions)\n",
        "\n",
        "# Final weights and biases\n",
        "print(\"\\nFinal Weights and Biases:\")\n",
        "for layer in model.layers:\n",
        "    weights, biases = layer.get_weights()\n",
        "    print(f\"Weights: {weights}, Biases: {biases}\")\n"
      ],
      "metadata": {
        "id": "nvR_u6Dzj0Ky"
      },
      "execution_count": null,
      "outputs": []
    }
  ]
}