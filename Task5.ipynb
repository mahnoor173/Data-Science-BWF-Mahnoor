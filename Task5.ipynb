{
  "nbformat": 4,
  "nbformat_minor": 0,
  "metadata": {
    "colab": {
      "provenance": [],
      "authorship_tag": "ABX9TyPwGINAh9LcCV3+CcNeSP8s",
      "include_colab_link": true
    },
    "kernelspec": {
      "name": "python3",
      "display_name": "Python 3"
    },
    "language_info": {
      "name": "python"
    }
  },
  "cells": [
    {
      "cell_type": "markdown",
      "metadata": {
        "id": "view-in-github",
        "colab_type": "text"
      },
      "source": [
        "<a href=\"https://colab.research.google.com/github/mahnoor173/Data-Science-BWF-Mahnoor/blob/main/Task5.ipynb\" target=\"_parent\"><img src=\"https://colab.research.google.com/assets/colab-badge.svg\" alt=\"Open In Colab\"/></a>"
      ]
    },
    {
      "cell_type": "markdown",
      "source": [
        "Tuples"
      ],
      "metadata": {
        "id": "y0eVDYjvbske"
      }
    },
    {
      "cell_type": "code",
      "source": [
        "from collections import OrderedDict\n",
        "from random import randint\n",
        "\n",
        "# Creating tuples\n",
        "tuple1 = (1, 2, 3)\n",
        "tuple2 = ('apple', 'banana', 'cherry')\n",
        "tuple3 = (1, 'apple', 3.5)\n",
        "tuple4 = 1, 2, 3\n",
        "empty_tuple = ()\n",
        "single_item_tuple = (1,)\n",
        "\n",
        "# Accessing tuple elements\n",
        "tuple1 = (1, 2, 3, 4, 5)\n",
        "print(tuple1[0])    # Output: 1\n",
        "print(tuple1[2])    # Output: 3\n",
        "print(tuple1[1:3])  # Output: (2, 3)\n",
        "print(tuple1[:3])   # Output: (1, 2, 3)\n",
        "print(tuple1[3:])   # Output: (4, 5)\n",
        "\n",
        "# Tuple immutability\n",
        "# tuple1[1] = 4  # Uncommenting this line will raise TypeError: 'tuple' object does not support item assignment\n",
        "\n",
        "# Tuple methods\n",
        "tuple1 = (1, 2, 3, 2, 2, 4)\n",
        "print(tuple1.count(2))   # Output: 3\n",
        "print(tuple1.index(3))   # Output: 2\n",
        "\n",
        "# Tuple packing and unpacking\n",
        "my_tuple = 1, 2, 'apple'\n",
        "a, b, c = my_tuple\n",
        "print(a, b, c)   # Output: 1 2 apple\n",
        "\n",
        "t = (1, 2, 3, 4)\n",
        "a, b, *rest = t\n",
        "print(a, b, rest)   # Output: 1 2 [3, 4]\n",
        "\n",
        "# Nesting tuples\n",
        "nested_tuple = (1, (2, 3), (4, 5, 6))\n",
        "print(nested_tuple[1])       # Output: (2, 3)\n",
        "print(nested_tuple[1][1])    # Output: 3\n",
        "\n",
        "# Using tuples as keys in dictionaries\n",
        "my_dict = {(1, 2): 'a', (3, 4): 'b'}\n",
        "print(my_dict[(1, 2)])   # Output: a\n",
        "\n",
        "# Advantages of tuples\n",
        "# - Immutability\n",
        "# - Performance\n",
        "# - Hashable (can be used as keys in dictionaries)\n",
        "\n",
        "# When to use tuples\n",
        "# - When data should not be changed (constants)\n",
        "# - When returning multiple values from a function\n",
        "# - When using a collection as a key in a dictionary\n",
        "\n",
        "# Example use case: Returning multiple values from a function\n",
        "def get_min_max(numbers):\n",
        "    return min(numbers), max(numbers)\n",
        "\n",
        "result = get_min_max([1, 2, 3, 4, 5])\n",
        "print(result)      # Output: (1, 5)\n",
        "\n",
        "min_val, max_val = result\n",
        "print(min_val)     # Output: 1\n",
        "print(max_val)     # Output: 5\n",
        "\n",
        "# Using OrderedDict for Exercise 9-13\n",
        "glossary = OrderedDict()\n",
        "glossary['variable'] = 'A reserved memory location to store values.'\n",
        "glossary['function'] = 'A block of organized, reusable code that is used to perform a single, related action.'\n",
        "glossary['loop'] = 'A programming structure that repeats a sequence of instructions until a specific condition is met.'\n",
        "glossary['list'] = 'A collection of items in a particular order.'\n",
        "glossary['dictionary'] = 'A collection of key-value pairs.'\n",
        "\n",
        "for term, definition in glossary.items():\n",
        "    print(f\"{term.title()}: {definition}\")\n",
        "\n",
        "# Using Die class for Exercise 9-14\n",
        "class Die:\n",
        "    def __init__(self, sides=6):\n",
        "        self.sides = sides\n",
        "\n",
        "    def roll_die(self):\n",
        "        return randint(1, self.sides)\n",
        "\n",
        "# Rolling a 6-sided die 10 times\n",
        "six_sided_die = Die()\n",
        "print(\"Rolling a 6-sided die 10 times:\")\n",
        "for _ in range(10):\n",
        "    print(six_sided_die.roll_die())\n",
        "\n",
        "# Rolling a 10-sided die 10 times\n",
        "ten_sided_die = Die(10)\n",
        "print(\"\\nRolling a 10-sided die 10 times:\")\n",
        "for _ in range(10):\n",
        "    print(ten_sided_die.roll_die())\n",
        "\n",
        "# Rolling a 20-sided die 10 times\n",
        "twenty_sided_die = Die(20)\n",
        "print(\"\\nRolling a 20-sided die 10 times:\")\n",
        "for _ in range(10):\n",
        "    print(twenty_sided_die.roll_die())\n"
      ],
      "metadata": {
        "colab": {
          "base_uri": "https://localhost:8080/"
        },
        "id": "-Hg5FLRJbt_S",
        "outputId": "915a5d4a-eafa-4120-8b62-5dff6f362dd0"
      },
      "execution_count": 1,
      "outputs": [
        {
          "output_type": "stream",
          "name": "stdout",
          "text": [
            "1\n",
            "3\n",
            "(2, 3)\n",
            "(1, 2, 3)\n",
            "(4, 5)\n",
            "3\n",
            "2\n",
            "1 2 apple\n",
            "1 2 [3, 4]\n",
            "(2, 3)\n",
            "3\n",
            "a\n",
            "(1, 5)\n",
            "1\n",
            "5\n",
            "Variable: A reserved memory location to store values.\n",
            "Function: A block of organized, reusable code that is used to perform a single, related action.\n",
            "Loop: A programming structure that repeats a sequence of instructions until a specific condition is met.\n",
            "List: A collection of items in a particular order.\n",
            "Dictionary: A collection of key-value pairs.\n",
            "Rolling a 6-sided die 10 times:\n",
            "5\n",
            "6\n",
            "5\n",
            "6\n",
            "1\n",
            "5\n",
            "1\n",
            "6\n",
            "5\n",
            "1\n",
            "\n",
            "Rolling a 10-sided die 10 times:\n",
            "6\n",
            "10\n",
            "8\n",
            "1\n",
            "6\n",
            "7\n",
            "4\n",
            "10\n",
            "1\n",
            "9\n",
            "\n",
            "Rolling a 20-sided die 10 times:\n",
            "4\n",
            "14\n",
            "4\n",
            "3\n",
            "4\n",
            "7\n",
            "7\n",
            "18\n",
            "8\n",
            "9\n"
          ]
        }
      ]
    },
    {
      "cell_type": "markdown",
      "source": [
        "List Comprehension"
      ],
      "metadata": {
        "id": "pRPi32jicgIi"
      }
    },
    {
      "cell_type": "code",
      "source": [
        "# List comprehension using condition\n",
        "even_numbers = [x for x in range(10) if x % 2 == 0]\n",
        "print(even_numbers)\n"
      ],
      "metadata": {
        "colab": {
          "base_uri": "https://localhost:8080/"
        },
        "id": "nbvAukdNci1n",
        "outputId": "9c0878ab-e85d-433d-a22e-f59c746b93e3"
      },
      "execution_count": 2,
      "outputs": [
        {
          "output_type": "stream",
          "name": "stdout",
          "text": [
            "[0, 2, 4, 6, 8]\n"
          ]
        }
      ]
    },
    {
      "cell_type": "markdown",
      "source": [
        "Set Comprehensions"
      ],
      "metadata": {
        "id": "dKERPZcTczqH"
      }
    },
    {
      "cell_type": "code",
      "source": [
        "squares_set = {x**2 for x in range(10)}\n",
        "print(squares_set)\n"
      ],
      "metadata": {
        "colab": {
          "base_uri": "https://localhost:8080/"
        },
        "id": "Vz0e_OvVc3wP",
        "outputId": "9d288a68-ebe9-428f-a96d-ba884fc4d57d"
      },
      "execution_count": 3,
      "outputs": [
        {
          "output_type": "stream",
          "name": "stdout",
          "text": [
            "{0, 1, 64, 4, 36, 9, 16, 49, 81, 25}\n"
          ]
        }
      ]
    },
    {
      "cell_type": "markdown",
      "source": [
        "Dictionary Comprehensions"
      ],
      "metadata": {
        "id": "7BWkKaF-dAqw"
      }
    },
    {
      "cell_type": "code",
      "source": [
        "squares_dict = {x: x**2 for x in range(10)}\n",
        "print(squares_dict)\n"
      ],
      "metadata": {
        "colab": {
          "base_uri": "https://localhost:8080/"
        },
        "id": "OaiUO8STdEdr",
        "outputId": "5097619c-b16e-49df-94f2-40d408c39772"
      },
      "execution_count": 4,
      "outputs": [
        {
          "output_type": "stream",
          "name": "stdout",
          "text": [
            "{0: 0, 1: 1, 2: 4, 3: 9, 4: 16, 5: 25, 6: 36, 7: 49, 8: 64, 9: 81}\n"
          ]
        }
      ]
    },
    {
      "cell_type": "markdown",
      "source": [
        "**Generator Funcion**"
      ],
      "metadata": {
        "id": "ZSMleduzdRUw"
      }
    },
    {
      "cell_type": "code",
      "source": [
        "def fibonacci_generator():\n",
        "    a, b = 0, 1\n",
        "    while True:\n",
        "        yield a\n",
        "        a, b = b, a + b\n",
        "\n",
        "\n",
        "fib_gen = fibonacci_generator()\n",
        "for _ in range(10):\n",
        "    print(next(fib_gen))\n"
      ],
      "metadata": {
        "colab": {
          "base_uri": "https://localhost:8080/"
        },
        "id": "7NhuFeLDdXE6",
        "outputId": "f28921e1-59f8-4f05-a599-8d2335329683"
      },
      "execution_count": 5,
      "outputs": [
        {
          "output_type": "stream",
          "name": "stdout",
          "text": [
            "0\n",
            "1\n",
            "1\n",
            "2\n",
            "3\n",
            "5\n",
            "8\n",
            "13\n",
            "21\n",
            "34\n"
          ]
        }
      ]
    }
  ]
}