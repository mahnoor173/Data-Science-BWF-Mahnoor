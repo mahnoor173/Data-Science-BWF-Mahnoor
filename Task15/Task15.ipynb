{
  "nbformat": 4,
  "nbformat_minor": 0,
  "metadata": {
    "colab": {
      "provenance": [],
      "authorship_tag": "ABX9TyN3idsZZnPXqGAFFE6OsdVn",
      "include_colab_link": true
    },
    "kernelspec": {
      "name": "python3",
      "display_name": "Python 3"
    },
    "language_info": {
      "name": "python"
    }
  },
  "cells": [
    {
      "cell_type": "markdown",
      "metadata": {
        "id": "view-in-github",
        "colab_type": "text"
      },
      "source": [
        "<a href=\"https://colab.research.google.com/github/mahnoor173/Data-Science-BWF-Mahnoor/blob/main/Task15/Task15.ipynb\" target=\"_parent\"><img src=\"https://colab.research.google.com/assets/colab-badge.svg\" alt=\"Open In Colab\"/></a>"
      ]
    },
    {
      "cell_type": "markdown",
      "source": [
        "**Advanced NumPy Operations**"
      ],
      "metadata": {
        "id": "ZITnSsKCMItN"
      }
    },
    {
      "cell_type": "code",
      "source": [
        "import numpy as np\n",
        "\n",
        "# Reshape\n",
        "# Create a 1D array\n",
        "array_1d = np.arange(12)\n",
        "\n",
        "# Reshape to a 3x4 array\n",
        "array_2d = array_1d.reshape(3, 4)\n",
        "print(\"Reshaped 1D array to 2D array (3x4):\\n\", array_2d)\n",
        "\n",
        "# Concatenate\n",
        "# Create two 2D arrays\n",
        "array1 = np.array([[1, 2], [3, 4]])\n",
        "array2 = np.array([[5, 6], [7, 8]])\n",
        "\n",
        "# Concatenate along rows (axis=0)\n",
        "concatenated_array = np.concatenate((array1, array2), axis=0)\n",
        "print(\"Concatenated along rows:\\n\", concatenated_array)\n",
        "\n",
        "# Concatenate along columns (axis=1)\n",
        "concatenated_array = np.concatenate((array1, array2), axis=1)\n",
        "print(\"Concatenated along columns:\\n\", concatenated_array)\n",
        "\n",
        "# Splitting\n",
        "# Create a 2D array\n",
        "array = np.arange(16).reshape(4, 4)\n",
        "\n",
        "# Split the array into 2 sub-arrays along rows\n",
        "split_array = np.split(array, 2, axis=0)\n",
        "print(\"Array split along rows:\\n\", split_array)\n",
        "\n",
        "# Split the array into 2 sub-arrays along columns\n",
        "split_array = np.split(array, 2, axis=1)\n",
        "print(\"Array split along columns:\\n\", split_array)\n",
        "\n",
        "# Horizontal and Vertical Splitting\n",
        "# Horizontal split\n",
        "hsplit_array = np.hsplit(array, 2)\n",
        "print(\"Horizontal split:\\n\", hsplit_array)\n",
        "\n",
        "# Vertical split\n",
        "vsplit_array = np.vsplit(array, 2)\n",
        "print(\"Vertical split:\\n\", vsplit_array)\n"
      ],
      "metadata": {
        "colab": {
          "base_uri": "https://localhost:8080/"
        },
        "id": "qxiWWddyML06",
        "outputId": "e0b18979-74a4-4ba3-a6b8-3194a9781291"
      },
      "execution_count": 1,
      "outputs": [
        {
          "output_type": "stream",
          "name": "stdout",
          "text": [
            "Reshaped 1D array to 2D array (3x4):\n",
            " [[ 0  1  2  3]\n",
            " [ 4  5  6  7]\n",
            " [ 8  9 10 11]]\n",
            "Concatenated along rows:\n",
            " [[1 2]\n",
            " [3 4]\n",
            " [5 6]\n",
            " [7 8]]\n",
            "Concatenated along columns:\n",
            " [[1 2 5 6]\n",
            " [3 4 7 8]]\n",
            "Array split along rows:\n",
            " [array([[0, 1, 2, 3],\n",
            "       [4, 5, 6, 7]]), array([[ 8,  9, 10, 11],\n",
            "       [12, 13, 14, 15]])]\n",
            "Array split along columns:\n",
            " [array([[ 0,  1],\n",
            "       [ 4,  5],\n",
            "       [ 8,  9],\n",
            "       [12, 13]]), array([[ 2,  3],\n",
            "       [ 6,  7],\n",
            "       [10, 11],\n",
            "       [14, 15]])]\n",
            "Horizontal split:\n",
            " [array([[ 0,  1],\n",
            "       [ 4,  5],\n",
            "       [ 8,  9],\n",
            "       [12, 13]]), array([[ 2,  3],\n",
            "       [ 6,  7],\n",
            "       [10, 11],\n",
            "       [14, 15]])]\n",
            "Vertical split:\n",
            " [array([[0, 1, 2, 3],\n",
            "       [4, 5, 6, 7]]), array([[ 8,  9, 10, 11],\n",
            "       [12, 13, 14, 15]])]\n"
          ]
        }
      ]
    }
  ]
}