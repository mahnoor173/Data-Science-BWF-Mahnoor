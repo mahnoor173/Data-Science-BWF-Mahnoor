{
  "nbformat": 4,
  "nbformat_minor": 0,
  "metadata": {
    "colab": {
      "provenance": [],
      "authorship_tag": "ABX9TyP4TVCp/qnIih4r4uVix5Ba",
      "include_colab_link": true
    },
    "kernelspec": {
      "name": "python3",
      "display_name": "Python 3"
    },
    "language_info": {
      "name": "python"
    }
  },
  "cells": [
    {
      "cell_type": "markdown",
      "metadata": {
        "id": "view-in-github",
        "colab_type": "text"
      },
      "source": [
        "<a href=\"https://colab.research.google.com/github/mahnoor173/Data-Science-BWF-Mahnoor/blob/main/Task18/Iris_ML_Model.ipynb\" target=\"_parent\"><img src=\"https://colab.research.google.com/assets/colab-badge.svg\" alt=\"Open In Colab\"/></a>"
      ]
    },
    {
      "cell_type": "code",
      "execution_count": 2,
      "metadata": {
        "colab": {
          "base_uri": "https://localhost:8080/"
        },
        "id": "M6HX9KbekXOq",
        "outputId": "5c5ae3f3-5e5c-42e5-9055-305f11c0d00a"
      },
      "outputs": [
        {
          "output_type": "stream",
          "name": "stdout",
          "text": [
            "Enter sepal length: 2.0\n",
            "Enter sepal width: 1.0\n",
            "Enter petal length: 3.0\n",
            "Enter petal width: 2.0\n",
            "The predicted species is: virginica\n"
          ]
        }
      ],
      "source": [
        "import numpy as np\n",
        "from sklearn import datasets\n",
        "from sklearn.model_selection import train_test_split\n",
        "from sklearn.svm import SVC\n",
        "\n",
        "# Load the Iris dataset\n",
        "iris = datasets.load_iris()\n",
        "X = iris.data  # Features\n",
        "y = iris.target  # Target labels\n",
        "\n",
        "# Split the dataset into training and testing sets\n",
        "X_train, X_test, y_train, y_test = train_test_split(X, y, test_size=0.2, random_state=42)\n",
        "\n",
        "# Build and train the model\n",
        "model = SVC(kernel='linear')\n",
        "model.fit(X_train, y_train)\n",
        "\n",
        "# Function to predict the species based on user input\n",
        "def predict_species(sepal_length, sepal_width, petal_length, petal_width):\n",
        "    # Create a sample array from the user input\n",
        "    sample = np.array([[sepal_length, sepal_width, petal_length, petal_width]])\n",
        "\n",
        "    # Make a prediction using the trained model\n",
        "    prediction = model.predict(sample)\n",
        "\n",
        "    # Map the numeric prediction to the species name\n",
        "    species = {0: 'setosa', 1: 'versicolor', 2: 'virginica'}\n",
        "    return species[prediction[0]]\n",
        "\n",
        "# Take user input for the features\n",
        "sepal_length = float(input(\"Enter sepal length: \"))\n",
        "sepal_width = float(input(\"Enter sepal width: \"))\n",
        "petal_length = float(input(\"Enter petal length: \"))\n",
        "petal_width = float(input(\"Enter petal width: \"))\n",
        "\n",
        "# Predict and display the species\n",
        "predicted_species = predict_species(sepal_length, sepal_width, petal_length, petal_width)\n",
        "print(f'The predicted species is: {predicted_species}')\n"
      ]
    }
  ]
}