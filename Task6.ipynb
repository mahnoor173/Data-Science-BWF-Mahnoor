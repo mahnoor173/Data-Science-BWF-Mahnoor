{
  "nbformat": 4,
  "nbformat_minor": 0,
  "metadata": {
    "colab": {
      "provenance": [],
      "authorship_tag": "ABX9TyNRSKB187eNVT9ZiukT1uJ8",
      "include_colab_link": true
    },
    "kernelspec": {
      "name": "python3",
      "display_name": "Python 3"
    },
    "language_info": {
      "name": "python"
    }
  },
  "cells": [
    {
      "cell_type": "markdown",
      "metadata": {
        "id": "view-in-github",
        "colab_type": "text"
      },
      "source": [
        "<a href=\"https://colab.research.google.com/github/mahnoor173/Data-Science-BWF-Mahnoor/blob/main/Task6.ipynb\" target=\"_parent\"><img src=\"https://colab.research.google.com/assets/colab-badge.svg\" alt=\"Open In Colab\"/></a>"
      ]
    },
    {
      "cell_type": "markdown",
      "source": [
        "Classes"
      ],
      "metadata": {
        "id": "U6SUUXfkQ7Qa"
      }
    },
    {
      "cell_type": "code",
      "source": [
        "class Restaurant:\n",
        "    def __init__(self, restaurant_name, cuisine_type):\n",
        "        self.restaurant_name = restaurant_name\n",
        "        self.cuisine_type = cuisine_type\n",
        "\n",
        "    def describe_restaurant(self):\n",
        "        print(f\"Restaurant Name: {self.restaurant_name}\")\n",
        "        print(f\"Cuisine Type: {self.cuisine_type}\")\n",
        "\n",
        "    def open_restaurant(self):\n",
        "        print(f\"{self.restaurant_name} is now open!\")\n",
        "\n",
        "restaurant = Restaurant(\"Chop Chop Wok\", \"Chinese\")\n",
        "\n",
        "print(restaurant.restaurant_name)\n",
        "print(restaurant.cuisine_type)\n",
        "\n",
        "\n",
        "restaurant.describe_restaurant()\n",
        "restaurant.open_restaurant()\n"
      ],
      "metadata": {
        "colab": {
          "base_uri": "https://localhost:8080/"
        },
        "id": "hix1fMekRAyn",
        "outputId": "08f87a79-0423-4baa-9e7e-45702ff60077"
      },
      "execution_count": 1,
      "outputs": [
        {
          "output_type": "stream",
          "name": "stdout",
          "text": [
            "Chop Chop Wok\n",
            "Chinese\n",
            "Restaurant Name: Chop Chop Wok\n",
            "Cuisine Type: Chinese\n",
            "Chop Chop Wok is now open!\n"
          ]
        }
      ]
    },
    {
      "cell_type": "code",
      "source": [
        "class Restaurant:\n",
        "    def __init__(self, restaurant_name, cuisine_type):\n",
        "        self.restaurant_name = restaurant_name\n",
        "        self.cuisine_type = cuisine_type\n",
        "\n",
        "    def describe_restaurant(self):\n",
        "        print(f\"Restaurant Name: {self.restaurant_name}\")\n",
        "        print(f\"Cuisine Type: {self.cuisine_type}\")\n",
        "\n",
        "    def open_restaurant(self):\n",
        "        print(f\"{self.restaurant_name} is now open!\")\n",
        "\n",
        "restaurant = Restaurant(\"The Food Place\", \"Italian\")\n",
        "\n",
        "\n",
        "print(restaurant.restaurant_name)\n",
        "print(restaurant.cuisine_type)\n",
        "\n",
        "\n",
        "restaurant.describe_restaurant()\n",
        "restaurant.open_restaurant()\n",
        "\n",
        "\n",
        "restaurant1 = Restaurant(\"Ocean's Delight\", \"Seafood\")\n",
        "restaurant2 = Restaurant(\"Spice Hub\", \"Indian\")\n",
        "restaurant3 = Restaurant(\"Sushi World\", \"Japanese\")\n",
        "\n",
        "restaurant1.describe_restaurant()\n",
        "restaurant2.describe_restaurant()\n",
        "restaurant3.describe_restaurant()\n"
      ],
      "metadata": {
        "colab": {
          "base_uri": "https://localhost:8080/"
        },
        "id": "5zICIMy4RfSR",
        "outputId": "949fc27f-1623-45a2-d54e-54c0015a276e"
      },
      "execution_count": 2,
      "outputs": [
        {
          "output_type": "stream",
          "name": "stdout",
          "text": [
            "The Food Place\n",
            "Italian\n",
            "Restaurant Name: The Food Place\n",
            "Cuisine Type: Italian\n",
            "The Food Place is now open!\n",
            "Restaurant Name: Ocean's Delight\n",
            "Cuisine Type: Seafood\n",
            "Restaurant Name: Spice Hub\n",
            "Cuisine Type: Indian\n",
            "Restaurant Name: Sushi World\n",
            "Cuisine Type: Japanese\n"
          ]
        }
      ]
    },
    {
      "cell_type": "code",
      "source": [
        "class Restaurant:\n",
        "    def __init__(self, restaurant_name, cuisine_type):\n",
        "        self.restaurant_name = restaurant_name\n",
        "        self.cuisine_type = cuisine_type\n",
        "\n",
        "    def describe_restaurant(self):\n",
        "        print(f\"Restaurant Name: {self.restaurant_name}\")\n",
        "        print(f\"Cuisine Type: {self.cuisine_type}\")\n",
        "\n",
        "    def open_restaurant(self):\n",
        "        print(f\"{self.restaurant_name} is now open!\")\n",
        "\n",
        "restaurant = Restaurant(\"The Food Place\", \"Italian\")\n",
        "\n",
        "\n",
        "print(restaurant.restaurant_name)\n",
        "print(restaurant.cuisine_type)\n",
        "\n",
        "\n",
        "restaurant.describe_restaurant()\n",
        "restaurant.open_restaurant()\n",
        "\n",
        "\n",
        "restaurant1 = Restaurant(\"Ocean's Delight\", \"Seafood\")\n",
        "restaurant2 = Restaurant(\"Spice Hub\", \"Indian\")\n",
        "restaurant3 = Restaurant(\"Sushi World\", \"Japanese\")\n",
        "\n",
        "restaurant1.describe_restaurant()\n",
        "restaurant2.describe_restaurant()\n",
        "restaurant3.describe_restaurant()\n",
        "\n",
        "class User:\n",
        "    def __init__(self, first_name, last_name, age, email):\n",
        "        self.first_name = first_name\n",
        "        self.last_name = last_name\n",
        "        self.age = age\n",
        "        self.email = email\n",
        "\n",
        "    def describe_user(self):\n",
        "        print(f\"User Information:\")\n",
        "        print(f\"First Name: {self.first_name}\")\n",
        "        print(f\"Last Name: {self.last_name}\")\n",
        "        print(f\"Age: {self.age}\")\n",
        "        print(f\"Email: {self.email}\")\n",
        "\n",
        "    def greet_user(self):\n",
        "        print(f\"Hello, {self.first_name} {self.last_name}!\")\n",
        "\n",
        "\n",
        "user1 = User(\"John\", \"Doe\", 28, \"john.doe@example.com\")\n",
        "user2 = User(\"Jane\", \"Smith\", 34, \"jane.smith@example.com\")\n",
        "user3 = User(\"Alice\", \"Johnson\", 22, \"alice.johnson@example.com\")\n",
        "\n",
        "\n",
        "user1.describe_user()\n",
        "user1.greet_user()\n",
        "\n",
        "user2.describe_user()\n",
        "user2.greet_user()\n",
        "\n",
        "user3.describe_user()\n",
        "user3.greet_user()\n"
      ],
      "metadata": {
        "colab": {
          "base_uri": "https://localhost:8080/"
        },
        "id": "v70W9GR0Rr3T",
        "outputId": "87094d07-192b-48f7-bb96-80dfe1ec474d"
      },
      "execution_count": 3,
      "outputs": [
        {
          "output_type": "stream",
          "name": "stdout",
          "text": [
            "The Food Place\n",
            "Italian\n",
            "Restaurant Name: The Food Place\n",
            "Cuisine Type: Italian\n",
            "The Food Place is now open!\n",
            "Restaurant Name: Ocean's Delight\n",
            "Cuisine Type: Seafood\n",
            "Restaurant Name: Spice Hub\n",
            "Cuisine Type: Indian\n",
            "Restaurant Name: Sushi World\n",
            "Cuisine Type: Japanese\n",
            "User Information:\n",
            "First Name: John\n",
            "Last Name: Doe\n",
            "Age: 28\n",
            "Email: john.doe@example.com\n",
            "Hello, John Doe!\n",
            "User Information:\n",
            "First Name: Jane\n",
            "Last Name: Smith\n",
            "Age: 34\n",
            "Email: jane.smith@example.com\n",
            "Hello, Jane Smith!\n",
            "User Information:\n",
            "First Name: Alice\n",
            "Last Name: Johnson\n",
            "Age: 22\n",
            "Email: alice.johnson@example.com\n",
            "Hello, Alice Johnson!\n"
          ]
        }
      ]
    },
    {
      "cell_type": "markdown",
      "source": [
        "**Number Served:**"
      ],
      "metadata": {
        "id": "Vo3GR5d0TRvB"
      }
    },
    {
      "cell_type": "code",
      "source": [
        "class Restaurant:\n",
        "    def __init__(self, restaurant_name, cuisine_type):\n",
        "        self.restaurant_name = restaurant_name\n",
        "        self.cuisine_type = cuisine_type\n",
        "        self.number_served = 0  # New attribute with default value of 0\n",
        "\n",
        "    def describe_restaurant(self):\n",
        "        print(f\"Restaurant Name: {self.restaurant_name}\")\n",
        "        print(f\"Cuisine Type: {self.cuisine_type}\")\n",
        "\n",
        "    def open_restaurant(self):\n",
        "        print(f\"{self.restaurant_name} is now open!\")\n",
        "\n",
        "    def set_number_served(self, number):\n",
        "        self.number_served = number\n",
        "\n",
        "    def increment_number_served(self, increment):\n",
        "        self.number_served += increment\n",
        "\n",
        "\n",
        "restaurant = Restaurant(\"The Food Place\", \"Italian\")\n",
        "\n",
        "\n",
        "print(f\"Number of customers served: {restaurant.number_served}\")\n",
        "\n",
        "restaurant.number_served = 10\n",
        "print(f\"Number of customers served: {restaurant.number_served}\")\n",
        "\n",
        "restaurant.set_number_served(25)\n",
        "print(f\"Number of customers served: {restaurant.number_served}\")\n",
        "\n",
        "restaurant.increment_number_served(30)\n",
        "print(f\"Number of customers served: {restaurant.number_served}\")\n"
      ],
      "metadata": {
        "colab": {
          "base_uri": "https://localhost:8080/"
        },
        "id": "W1-CKVGlTXMJ",
        "outputId": "896f2d67-b180-4342-f21e-36b621b39390"
      },
      "execution_count": 4,
      "outputs": [
        {
          "output_type": "stream",
          "name": "stdout",
          "text": [
            "Number of customers served: 0\n",
            "Number of customers served: 10\n",
            "Number of customers served: 25\n",
            "Number of customers served: 55\n"
          ]
        }
      ]
    },
    {
      "cell_type": "markdown",
      "source": [
        "**Login attempts**"
      ],
      "metadata": {
        "id": "CWa1T7CzTixU"
      }
    },
    {
      "cell_type": "code",
      "source": [
        "class User:\n",
        "    def __init__(self, first_name, last_name, age, email):\n",
        "        self.first_name = first_name\n",
        "        self.last_name = last_name\n",
        "        self.age = age\n",
        "        self.email = email\n",
        "        self.login_attempts = 0\n",
        "\n",
        "    def describe_user(self):\n",
        "        print(\"User Information:\")\n",
        "        print(f\"First Name: {self.first_name}\")\n",
        "        print(f\"Last Name: {self.last_name}\")\n",
        "        print(f\"Age: {self.age}\")\n",
        "        print(f\"Email: {self.email}\")\n",
        "\n",
        "    def greet_user(self):\n",
        "        print(f\"Hello, {self.first_name} {self.last_name}!\")\n",
        "\n",
        "    def increment_login_attempts(self):\n",
        "        self.login_attempts += 1\n",
        "\n",
        "    def reset_login_attempts(self):\n",
        "        self.login_attempts = 0\n",
        "\n",
        "\n",
        "user = User(\"John\", \"Doe\", 28, \"john.doe@example.com\")\n",
        "\n",
        "\n",
        "user.increment_login_attempts()\n",
        "user.increment_login_attempts()\n",
        "user.increment_login_attempts()\n",
        "\n",
        "\n",
        "print(f\"Login attempts: {user.login_attempts}\")\n",
        "\n",
        "\n",
        "user.reset_login_attempts()\n",
        "print(f\"Login attempts after reset: {user.login_attempts}\")\n"
      ],
      "metadata": {
        "colab": {
          "base_uri": "https://localhost:8080/"
        },
        "id": "i-lGd50fTlrJ",
        "outputId": "4c12153d-0c69-472d-f7e5-4c2cc43b2184"
      },
      "execution_count": 5,
      "outputs": [
        {
          "output_type": "stream",
          "name": "stdout",
          "text": [
            "Login attempts: 3\n",
            "Login attempts after reset: 0\n"
          ]
        }
      ]
    },
    {
      "cell_type": "markdown",
      "source": [
        "**Ice Cream Stand**"
      ],
      "metadata": {
        "id": "4glMTC11UCXp"
      }
    },
    {
      "cell_type": "code",
      "source": [
        "class Restaurant:\n",
        "    def __init__(self, restaurant_name, cuisine_type):\n",
        "        self.restaurant_name = restaurant_name\n",
        "        self.cuisine_type = cuisine_type\n",
        "        self.number_served = 0\n",
        "\n",
        "    def describe_restaurant(self):\n",
        "        print(f\"Restaurant Name: {self.restaurant_name}\")\n",
        "        print(f\"Cuisine Type: {self.cuisine_type}\")\n",
        "\n",
        "    def open_restaurant(self):\n",
        "        print(f\"{self.restaurant_name} is now open!\")\n",
        "\n",
        "    def set_number_served(self, number):\n",
        "        self.number_served = number\n",
        "\n",
        "    def increment_number_served(self, increment):\n",
        "        self.number_served += increment\n",
        "\n",
        "class IceCreamStand(Restaurant):\n",
        "    def __init__(self, restaurant_name, cuisine_type, flavors):\n",
        "        super().__init__(restaurant_name, cuisine_type)\n",
        "        self.flavors = flavors\n",
        "\n",
        "    def display_flavors(self):\n",
        "        print(\"Ice Cream Flavors:\")\n",
        "        for flavor in self.flavors:\n",
        "            print(f\"- {flavor}\")\n",
        "\n",
        "ice_cream_stand = IceCreamStand(\"Cool Cones\", \"Ice Cream\", [\"Vanilla\", \"Chocolate\", \"Strawberry\", \"Mint\"])\n",
        "ice_cream_stand.display_flavors()\n"
      ],
      "metadata": {
        "colab": {
          "base_uri": "https://localhost:8080/"
        },
        "id": "j1ESe9nDUE8a",
        "outputId": "742d4397-1df4-4e80-e7c8-b79c195ee452"
      },
      "execution_count": 6,
      "outputs": [
        {
          "output_type": "stream",
          "name": "stdout",
          "text": [
            "Ice Cream Flavors:\n",
            "- Vanilla\n",
            "- Chocolate\n",
            "- Strawberry\n",
            "- Mint\n"
          ]
        }
      ]
    },
    {
      "cell_type": "markdown",
      "source": [
        "**Admin**"
      ],
      "metadata": {
        "id": "7hRLlGMoUmtF"
      }
    },
    {
      "cell_type": "code",
      "source": [
        "class User:\n",
        "    def __init__(self, first_name, last_name, age, email):\n",
        "        self.first_name = first_name\n",
        "        self.last_name = last_name\n",
        "        self.age = age\n",
        "        self.email = email\n",
        "        self.login_attempts = 0\n",
        "\n",
        "    def describe_user(self):\n",
        "        print(\"User Information:\")\n",
        "        print(f\"First Name: {self.first_name}\")\n",
        "        print(f\"Last Name: {self.last_name}\")\n",
        "        print(f\"Age: {self.age}\")\n",
        "        print(f\"Email: {self.email}\")\n",
        "\n",
        "    def greet_user(self):\n",
        "        print(f\"Hello, {self.first_name} {self.last_name}!\")\n",
        "\n",
        "    def increment_login_attempts(self):\n",
        "        self.login_attempts += 1\n",
        "\n",
        "    def reset_login_attempts(self):\n",
        "        self.login_attempts = 0\n",
        "\n",
        "class Admin(User):\n",
        "    def __init__(self, first_name, last_name, age, email, privileges):\n",
        "        super().__init__(first_name, last_name, age, email)\n",
        "        self.privileges = privileges\n",
        "\n",
        "    def show_privileges(self):\n",
        "        print(\"Privileges:\")\n",
        "        for privilege in self.privileges:\n",
        "            print(f\"- {privilege}\")\n",
        "\n",
        "\n",
        "admin = Admin(\"Alice\", \"Johnson\", 35, \"alice.johnson@example.com\", [\"can add post\", \"can delete post\", \"can ban user\"])\n",
        "\n",
        "admin.show_privileges()\n"
      ],
      "metadata": {
        "colab": {
          "base_uri": "https://localhost:8080/"
        },
        "id": "n2XXvV9DU2Ll",
        "outputId": "5f6fd7b7-a2d6-45ce-a95f-489d509ecd1e"
      },
      "execution_count": 7,
      "outputs": [
        {
          "output_type": "stream",
          "name": "stdout",
          "text": [
            "Privileges:\n",
            "- can add post\n",
            "- can delete post\n",
            "- can ban user\n"
          ]
        }
      ]
    },
    {
      "cell_type": "markdown",
      "source": [
        "**Privileges:**"
      ],
      "metadata": {
        "id": "5sKJ6wufVEk8"
      }
    },
    {
      "cell_type": "code",
      "source": [
        "class Privileges:\n",
        "    def __init__(self, privileges):\n",
        "        self.privileges = privileges\n",
        "\n",
        "    def show_privileges(self):\n",
        "        print(\"Privileges:\")\n",
        "        for privilege in self.privileges:\n",
        "            print(f\"- {privilege}\")\n",
        "\n",
        "class Admin(User):\n",
        "    def __init__(self, first_name, last_name, age, email, privileges):\n",
        "        super().__init__(first_name, last_name, age, email)\n",
        "        self.privileges = Privileges(privileges)\n",
        "\n",
        "\n",
        "admin = Admin(\"Alice\", \"Johnson\", 35, \"alice.johnson@example.com\", [\"can add post\", \"can delete post\", \"can ban user\"])\n",
        "\n",
        "admin.privileges.show_privileges()\n"
      ],
      "metadata": {
        "colab": {
          "base_uri": "https://localhost:8080/"
        },
        "id": "3OruP_8uVHkl",
        "outputId": "81f02740-b917-4222-85fd-f51298b59b55"
      },
      "execution_count": 8,
      "outputs": [
        {
          "output_type": "stream",
          "name": "stdout",
          "text": [
            "Privileges:\n",
            "- can add post\n",
            "- can delete post\n",
            "- can ban user\n"
          ]
        }
      ]
    },
    {
      "cell_type": "markdown",
      "source": [
        "**Battery Upgrade**"
      ],
      "metadata": {
        "id": "gYw6bm05VTIg"
      }
    },
    {
      "cell_type": "code",
      "source": [
        "class Battery:\n",
        "    def __init__(self, battery_size=70):\n",
        "        self.battery_size = battery_size\n",
        "\n",
        "    def describe_battery(self):\n",
        "        print(f\"This car has a {self.battery_size}-kWh battery.\")\n",
        "\n",
        "    def get_range(self):\n",
        "        if self.battery_size == 70:\n",
        "            range = 240\n",
        "        elif self.battery_size == 85:\n",
        "            range = 270\n",
        "        print(f\"This car can go approximately {range} miles on a full charge.\")\n",
        "\n",
        "    def upgrade_battery(self):\n",
        "        if self.battery_size < 85:\n",
        "            self.battery_size = 85\n",
        "\n",
        "class ElectricCar:\n",
        "    def __init__(self, make, model, year):\n",
        "        self.make = make\n",
        "        self.model = model\n",
        "        self.year = year\n",
        "        self.battery = Battery()\n",
        "\n",
        "    def describe_car(self):\n",
        "        print(f\"{self.year} {self.make} {self.model}\")\n",
        "\n",
        "\n",
        "my_tesla = ElectricCar(\"Tesla\", \"Model S\", 2016)\n",
        "\n",
        "my_tesla.battery.get_range()\n",
        "my_tesla.battery.upgrade_battery()\n",
        "my_tesla.battery.get_range()\n"
      ],
      "metadata": {
        "colab": {
          "base_uri": "https://localhost:8080/"
        },
        "id": "okgncGwoVU95",
        "outputId": "09361a07-3485-4774-9221-3fa18a66878c"
      },
      "execution_count": 9,
      "outputs": [
        {
          "output_type": "stream",
          "name": "stdout",
          "text": [
            "This car can go approximately 240 miles on a full charge.\n",
            "This car can go approximately 270 miles on a full charge.\n"
          ]
        }
      ]
    },
    {
      "cell_type": "markdown",
      "source": [
        "**Imported Restaurant**"
      ],
      "metadata": {
        "id": "yNysSL_vVz1M"
      }
    },
    {
      "cell_type": "code",
      "source": [
        "# Create the restaurant module\n",
        "%%writefile restaurant.py\n",
        "\n",
        "class Restaurant:\n",
        "    def __init__(self, restaurant_name, cuisine_type):\n",
        "        self.restaurant_name = restaurant_name\n",
        "        self.cuisine_type = cuisine_type\n",
        "\n",
        "    def describe_restaurant(self):\n",
        "        print(f\"Restaurant Name: {self.restaurant_name}\")\n",
        "        print(f\"Cuisine Type: {self.cuisine_type}\")\n",
        "\n",
        "    def open_restaurant(self):\n",
        "        print(f\"{self.restaurant_name} is now open!\")\n"
      ],
      "metadata": {
        "colab": {
          "base_uri": "https://localhost:8080/"
        },
        "id": "dWD6-pWcV3MO",
        "outputId": "59a220c9-4611-49e6-b2f8-81e50aa290f0"
      },
      "execution_count": 10,
      "outputs": [
        {
          "output_type": "stream",
          "name": "stdout",
          "text": [
            "Writing restaurant.py\n"
          ]
        }
      ]
    },
    {
      "cell_type": "code",
      "source": [
        "\n",
        "from restaurant import Restaurant\n",
        "\n",
        "restaurant = Restaurant(\"The Food Place\", \"Italian\")\n",
        "\n",
        "\n",
        "restaurant.describe_restaurant()\n"
      ],
      "metadata": {
        "colab": {
          "base_uri": "https://localhost:8080/"
        },
        "id": "eMGyptGWWY0E",
        "outputId": "e7357a62-1d7a-42f3-b55a-0f92b2ae726c"
      },
      "execution_count": 11,
      "outputs": [
        {
          "output_type": "stream",
          "name": "stdout",
          "text": [
            "Restaurant Name: The Food Place\n",
            "Cuisine Type: Italian\n"
          ]
        }
      ]
    },
    {
      "cell_type": "markdown",
      "source": [
        "**Imported Admin**"
      ],
      "metadata": {
        "id": "yjphu57IWiB-"
      }
    },
    {
      "cell_type": "code",
      "source": [
        "\n",
        "%%writefile admin_module.py\n",
        "\n",
        "class User:\n",
        "    def __init__(self, first_name, last_name, age, email):\n",
        "        self.first_name = first_name\n",
        "        self.last_name = last_name\n",
        "        self.age = age\n",
        "        self.email = email\n",
        "\n",
        "class Privileges:\n",
        "    def __init__(self, privileges):\n",
        "        self.privileges = privileges\n",
        "\n",
        "    def show_privileges(self):\n",
        "        print(\"Privileges:\")\n",
        "        for privilege in self.privileges:\n",
        "            print(f\"- {privilege}\")\n",
        "\n",
        "class Admin(User):\n",
        "    def __init__(self, first_name, last_name, age, email, privileges):\n",
        "        super().__init__(first_name, last_name, age, email)\n",
        "        self.privileges = Privileges(privileges)\n"
      ],
      "metadata": {
        "colab": {
          "base_uri": "https://localhost:8080/"
        },
        "id": "k4rTF4HDWoZK",
        "outputId": "d8f5b823-e045-43a8-b995-c9646405c74c"
      },
      "execution_count": 12,
      "outputs": [
        {
          "output_type": "stream",
          "name": "stdout",
          "text": [
            "Writing admin_module.py\n"
          ]
        }
      ]
    },
    {
      "cell_type": "code",
      "source": [
        "from admin_module import Admin\n",
        "\n",
        "\n",
        "admin = Admin(\"Alice\", \"Johnson\", 35, \"alice.johnson@example.com\", [\"can add post\", \"can delete post\", \"can ban user\"])\n",
        "\n",
        "admin.privileges.show_privileges()\n"
      ],
      "metadata": {
        "colab": {
          "base_uri": "https://localhost:8080/"
        },
        "id": "BkDEbp9qWsKV",
        "outputId": "caf9ba12-89d2-46d6-c6ce-b734d3780f5e"
      },
      "execution_count": 13,
      "outputs": [
        {
          "output_type": "stream",
          "name": "stdout",
          "text": [
            "Privileges:\n",
            "- can add post\n",
            "- can delete post\n",
            "- can ban user\n"
          ]
        }
      ]
    },
    {
      "cell_type": "markdown",
      "source": [
        "**Dice**"
      ],
      "metadata": {
        "id": "TAXZVo0qXl7b"
      }
    },
    {
      "cell_type": "code",
      "source": [
        "from random import randint\n",
        "\n",
        "class Die:\n",
        "    def __init__(self, sides=6):\n",
        "        self.sides = sides\n",
        "\n",
        "    def roll_die(self):\n",
        "        return randint(1, self.sides)\n",
        "\n",
        "\n",
        "six_sided_die = Die()\n",
        "print(\"Rolling a 6-sided die 10 times:\")\n",
        "for _ in range(10):\n",
        "    print(six_sided_die.roll_die())\n",
        "\n",
        "ten_sided_die = Die(10)\n",
        "print(\"\\nRolling a 10-sided die 10 times:\")\n",
        "for _ in range(10):\n",
        "    print(ten_sided_die.roll_die())\n",
        "\n",
        "twenty_sided_die = Die(20)\n",
        "print(\"\\nRolling a 20-sided die 10 times:\")\n",
        "for _ in range(10):\n",
        "    print(twenty_sided_die.roll_die())\n"
      ],
      "metadata": {
        "colab": {
          "base_uri": "https://localhost:8080/"
        },
        "id": "TZ55hPCnXoXy",
        "outputId": "98b09b29-5008-4ac1-c888-da81113866c0"
      },
      "execution_count": 14,
      "outputs": [
        {
          "output_type": "stream",
          "name": "stdout",
          "text": [
            "Rolling a 6-sided die 10 times:\n",
            "5\n",
            "2\n",
            "4\n",
            "1\n",
            "1\n",
            "1\n",
            "2\n",
            "4\n",
            "4\n",
            "6\n",
            "\n",
            "Rolling a 10-sided die 10 times:\n",
            "6\n",
            "2\n",
            "9\n",
            "9\n",
            "4\n",
            "4\n",
            "5\n",
            "5\n",
            "9\n",
            "8\n",
            "\n",
            "Rolling a 20-sided die 10 times:\n",
            "1\n",
            "18\n",
            "19\n",
            "13\n",
            "10\n",
            "13\n",
            "10\n",
            "16\n",
            "15\n",
            "19\n"
          ]
        }
      ]
    }
  ]
}