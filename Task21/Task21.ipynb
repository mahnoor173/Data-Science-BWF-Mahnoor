{
  "nbformat": 4,
  "nbformat_minor": 0,
  "metadata": {
    "colab": {
      "provenance": [],
      "authorship_tag": "ABX9TyMSdRXIQpdiYD9hIwA1LIO5",
      "include_colab_link": true
    },
    "kernelspec": {
      "name": "python3",
      "display_name": "Python 3"
    },
    "language_info": {
      "name": "python"
    }
  },
  "cells": [
    {
      "cell_type": "markdown",
      "metadata": {
        "id": "view-in-github",
        "colab_type": "text"
      },
      "source": [
        "<a href=\"https://colab.research.google.com/github/mahnoor173/Data-Science-BWF-Mahnoor/blob/main/Task21/Task21.ipynb\" target=\"_parent\"><img src=\"https://colab.research.google.com/assets/colab-badge.svg\" alt=\"Open In Colab\"/></a>"
      ]
    },
    {
      "cell_type": "markdown",
      "source": [
        "**Backpropagation** is a key algorithm used for training neural networks, particularly in the context of deep learning. It's the process of fine-tuning the weights of a neural network based on the error rate obtained in the previous iteration. This method helps to minimize the error, making the model more accurate."
      ],
      "metadata": {
        "id": "7k_O3FrwvAbj"
      }
    },
    {
      "cell_type": "markdown",
      "source": [
        "**Example 2: Backpropagation in a Deep Neural Network**\n",
        "\n",
        "**Scenario:**\n",
        "Consider a deeper network with 3 layers (input, hidden, output) where we train the model to classify images of handwritten digits.\n",
        "\n",
        "**Forward Pass:**\n",
        "Input layer receives pixel values.\n",
        "Passes through hidden layers using ReLU activation.\n",
        "Final output is a softmax layer providing probabilities for each digit class.\n",
        "**Loss Computation:**\n",
        "Calculate the cross-entropy loss between the predicted class and the actual class.\n",
        "**Backward Pass:**\n",
        "Compute the gradient of the loss with respect to each weight in the network.\n",
        "Use these gradients to update the weights via gradient descent.\n",
        "**Weight Updates:**\n",
        "Each weight is updated in the direction that minimizes the loss."
      ],
      "metadata": {
        "id": "XwDNPOyYvXS0"
      }
    },
    {
      "cell_type": "code",
      "source": [
        "import numpy as np\n",
        "\n",
        "# Sigmoid function\n",
        "def sigmoid(x):\n",
        "    return 1 / (1 + np.exp(-x))\n",
        "\n",
        "# Derivative of sigmoid function\n",
        "def sigmoid_derivative(x):\n",
        "    return x * (1 - x)\n",
        "\n",
        "# Example input (2 features)\n",
        "inputs = np.array([[0.5, 0.1]])\n",
        "\n",
        "# Target output\n",
        "expected_output = np.array([[1]])\n",
        "\n",
        "# Random weights initialization\n",
        "weights = np.array([[0.8, 0.4],\n",
        "                    [0.3, 0.9]])\n",
        "\n",
        "# Learning rate\n",
        "lr = 0.1\n",
        "\n",
        "# Forward Propagation\n",
        "input_hidden = np.dot(inputs, weights.T)\n",
        "output_hidden = sigmoid(input_hidden)\n",
        "\n",
        "# Backpropagation\n",
        "error = expected_output - output_hidden\n",
        "adjustments = error * sigmoid_derivative(output_hidden)\n",
        "\n",
        "# Update weights\n",
        "weights += np.dot(adjustments.T, inputs) * lr\n",
        "\n",
        "print(\"Updated weights after backpropagation:\")\n",
        "print(weights)\n"
      ],
      "metadata": {
        "colab": {
          "base_uri": "https://localhost:8080/"
        },
        "id": "5bxtOoWnv6fJ",
        "outputId": "0b3fecda-5ecb-407b-abc2-3b9d07fff0dc"
      },
      "execution_count": 1,
      "outputs": [
        {
          "output_type": "stream",
          "name": "stdout",
          "text": [
            "Updated weights after backpropagation:\n",
            "[[0.8046672  0.40093344]\n",
            " [0.30542508 0.90108502]]\n"
          ]
        }
      ]
    }
  ]
}