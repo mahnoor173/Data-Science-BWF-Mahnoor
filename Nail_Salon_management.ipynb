{
  "nbformat": 4,
  "nbformat_minor": 0,
  "metadata": {
    "colab": {
      "provenance": [],
      "authorship_tag": "ABX9TyNV3sHCHTcc+SnQQw5TeeRt",
      "include_colab_link": true
    },
    "kernelspec": {
      "name": "python3",
      "display_name": "Python 3"
    },
    "language_info": {
      "name": "python"
    }
  },
  "cells": [
    {
      "cell_type": "markdown",
      "metadata": {
        "id": "view-in-github",
        "colab_type": "text"
      },
      "source": [
        "<a href=\"https://colab.research.google.com/github/mahnoor173/Data-Science-BWF-Mahnoor/blob/main/Nail_Salon_management.ipynb\" target=\"_parent\"><img src=\"https://colab.research.google.com/assets/colab-badge.svg\" alt=\"Open In Colab\"/></a>"
      ]
    },
    {
      "cell_type": "code",
      "execution_count": 6,
      "metadata": {
        "colab": {
          "base_uri": "https://localhost:8080/"
        },
        "id": "GXPyrEnyilGs",
        "outputId": "122e7384-5433-49ac-9919-ece5747d9336"
      },
      "outputs": [
        {
          "name": "stdout",
          "output_type": "stream",
          "text": [
            "\n",
            "Nail Salon Management System\n",
            "1. Add Client\n",
            "2. Book Service\n",
            "3. Exit\n",
            "Enter your choice: 3\n"
          ]
        }
      ],
      "source": [
        "import json\n",
        "from datetime import datetime\n",
        "\n",
        "# Data structures to store information\n",
        "salon = {\n",
        "    \"clients\": [],\n",
        "    \"services\": [\n",
        "        {\"service_id\": \"1\", \"name\": \"Manicure\", \"duration\": 30, \"price\": 25},\n",
        "        {\"service_id\": \"2\", \"name\": \"Pedicure\", \"duration\": 45, \"price\": 35},\n",
        "        {\"service_id\": \"3\", \"name\": \"Gel Nails\", \"duration\": 60, \"price\": 50},\n",
        "        {\"service_id\": \"4\", \"name\": \"Nail Art\", \"duration\": 75, \"price\": 60}\n",
        "    ],\n",
        "    \"appointments\": []\n",
        "}\n",
        "\n",
        "# Functions to manage clients\n",
        "def add_client(client_id, name, phone, email):\n",
        "    salon[\"clients\"].append({\n",
        "        \"client_id\": client_id,\n",
        "        \"name\": name,\n",
        "        \"phone\": phone,\n",
        "        \"email\": email\n",
        "    })\n",
        "\n",
        "def view_clients():\n",
        "    return salon[\"clients\"]\n",
        "\n",
        "# Functions to manage appointments\n",
        "def add_appointment(appointment_id, client_id, service_id, datetime_str):\n",
        "    try:\n",
        "        appointment_datetime = datetime.strptime(datetime_str, \"%Y-%m-%d %H:%M\")\n",
        "    except ValueError:\n",
        "        print(\"Invalid date/time format. Please use YYYY-MM-DD HH:MM\")\n",
        "        return False\n",
        "\n",
        "    salon[\"appointments\"].append({\n",
        "        \"appointment_id\": appointment_id,\n",
        "        \"client_id\": client_id,\n",
        "        \"service_id\": service_id,\n",
        "        \"datetime\": appointment_datetime\n",
        "    })\n",
        "    return True\n",
        "\n",
        "def view_services():\n",
        "    return salon[\"services\"]\n",
        "\n",
        "# Command-line interface\n",
        "def main():\n",
        "    while True:\n",
        "        print(\"\\nNail Salon Management System\")\n",
        "        print(\"1. Add Client\")\n",
        "        print(\"2. Book Service\")\n",
        "        print(\"3. Exit\")\n",
        "\n",
        "        choice = input(\"Enter your choice: \")\n",
        "\n",
        "        if choice == \"1\":\n",
        "            client_id = input(\"Enter Client ID: \")\n",
        "            name = input(\"Enter Name: \")\n",
        "            phone = input(\"Enter Phone: \")\n",
        "            email = input(\"Enter Email: \")\n",
        "            add_client(client_id, name, phone, email)\n",
        "            print(\"Client added successfully!\")\n",
        "        elif choice == \"2\":\n",
        "            client_id = input(\"Enter Client ID: \")\n",
        "            client_exists = any(client[\"client_id\"] == client_id for client in salon[\"clients\"])\n",
        "            if not client_exists:\n",
        "                print(\"Client ID does not exist. Please add the client first.\")\n",
        "                continue\n",
        "            print(\"Available Services:\")\n",
        "            for service in salon[\"services\"]:\n",
        "                print(f\"{service['service_id']}. {service['name']} - {service['duration']} mins - ${service['price']}\")\n",
        "            service_id = input(\"Enter Service ID: \")\n",
        "            service_exists = any(service[\"service_id\"] == service_id for service in salon[\"services\"])\n",
        "            if not service_exists:\n",
        "                print(\"Service ID does not exist. Please choose a valid service.\")\n",
        "                continue\n",
        "            appointment_id = input(\"Enter Appointment ID: \")\n",
        "            datetime_str = input(\"Enter Date and Time (YYYY-MM-DD HH:MM): \")\n",
        "            if add_appointment(appointment_id, client_id, service_id, datetime_str):\n",
        "                print(\"Service successfully booked!\")\n",
        "            else:\n",
        "                print(\"Failed to book service.\")\n",
        "        elif choice == \"3\":\n",
        "            break\n",
        "        else:\n",
        "            print(\"Invalid choice. Please try again.\")\n",
        "\n",
        "if __name__ == \"__main__\":\n",
        "    main()\n"
      ]
    },
    {
      "cell_type": "code",
      "source": [
        "!apt-get install git\n"
      ],
      "metadata": {
        "colab": {
          "base_uri": "https://localhost:8080/"
        },
        "id": "Ae5evZofnwbV",
        "outputId": "89c79054-8785-4e75-b757-a804ba0840d2"
      },
      "execution_count": 7,
      "outputs": [
        {
          "output_type": "stream",
          "name": "stdout",
          "text": [
            "Reading package lists... Done\n",
            "Building dependency tree... Done\n",
            "Reading state information... Done\n",
            "git is already the newest version (1:2.34.1-1ubuntu1.11).\n",
            "0 upgraded, 0 newly installed, 0 to remove and 45 not upgraded.\n"
          ]
        }
      ]
    },
    {
      "cell_type": "code",
      "source": [
        "!git clone https://github.com/mahnoor173/Data-Science-BWF-Mahnoor.git\n"
      ],
      "metadata": {
        "colab": {
          "base_uri": "https://localhost:8080/"
        },
        "id": "Mk-Nk7Swn4c9",
        "outputId": "fbfd2990-72a0-4427-dbc6-bc3a0ebe0c39"
      },
      "execution_count": 8,
      "outputs": [
        {
          "output_type": "stream",
          "name": "stdout",
          "text": [
            "Cloning into 'Data-Science-BWF-Mahnoor'...\n",
            "remote: Enumerating objects: 15, done.\u001b[K\n",
            "remote: Counting objects: 100% (15/15), done.\u001b[K\n",
            "remote: Compressing objects: 100% (13/13), done.\u001b[K\n",
            "remote: Total 15 (delta 4), reused 0 (delta 0), pack-reused 0\u001b[K\n",
            "Receiving objects: 100% (15/15), 400.40 KiB | 19.07 MiB/s, done.\n",
            "Resolving deltas: 100% (4/4), done.\n"
          ]
        }
      ]
    },
    {
      "cell_type": "code",
      "source": [
        "%cd Data-Science-BWF-Mahnoor\n"
      ],
      "metadata": {
        "colab": {
          "base_uri": "https://localhost:8080/"
        },
        "id": "W-UrOKOOoKOh",
        "outputId": "149fedd8-5624-422b-c240-3a9e90640c42"
      },
      "execution_count": 9,
      "outputs": [
        {
          "output_type": "stream",
          "name": "stdout",
          "text": [
            "/content/Data-Science-BWF-Mahnoor\n"
          ]
        }
      ]
    },
    {
      "cell_type": "code",
      "source": [
        "!mkdir mini_project\n",
        "\n"
      ],
      "metadata": {
        "id": "IGnfBmFyoRk9"
      },
      "execution_count": 10,
      "outputs": []
    }
  ]
}